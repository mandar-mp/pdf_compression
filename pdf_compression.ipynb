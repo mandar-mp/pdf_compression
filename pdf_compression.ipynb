{
 "cells": [
  {
   "cell_type": "markdown",
   "metadata": {},
   "source": [
    "# PDF compression\n",
    "## This code reduces pdf file size by compressing images from the pdf\n",
    "## Install below python libraries\n",
    "### pip install pypdf\n",
    "### pip install pypdf[image]"
   ]
  },
  {
   "cell_type": "code",
   "execution_count": 2,
   "metadata": {},
   "outputs": [],
   "source": [
    "from pypdf import PdfWriter"
   ]
  },
  {
   "cell_type": "code",
   "execution_count": null,
   "metadata": {},
   "outputs": [],
   "source": [
    "# source file path\n",
    "input_file = \"\"\n",
    "#destination file path\n",
    "output_file = \"\"\n",
    "\n",
    "writer = PdfWriter(clone_from==input_file)\n",
    "\n",
    "for page in writer.pages:\n",
    "    for image in page.images:\n",
    "        image.replace(image.image,quality=30) #quality ranges between 1 to 100\n",
    "\n",
    "\n",
    "with open(output_file,\"wb\") as f:\n",
    "    writer.write(f)\n",
    "\n",
    "print(\"Pdf file compressed successfully!\")"
   ]
  }
 ],
 "metadata": {
  "kernelspec": {
   "display_name": "Python 3",
   "language": "python",
   "name": "python3"
  },
  "language_info": {
   "codemirror_mode": {
    "name": "ipython",
    "version": 3
   },
   "file_extension": ".py",
   "mimetype": "text/x-python",
   "name": "python",
   "nbconvert_exporter": "python",
   "pygments_lexer": "ipython3",
   "version": "3.12.4"
  }
 },
 "nbformat": 4,
 "nbformat_minor": 2
}
